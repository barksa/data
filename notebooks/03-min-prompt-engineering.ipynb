{
 "cells": [
  {
   "cell_type": "markdown",
   "metadata": {},
   "source": [
    "# Testing Several Different Prompting Methodologies (via SOLAR 10.7B)\n"
   ]
  },
  {
   "cell_type": "code",
   "execution_count": 1,
   "metadata": {},
   "outputs": [],
   "source": [
    "import torch\n",
    "from transformers import AutoModelForCausalLM, AutoTokenizer\n",
    "import warnings"
   ]
  },
  {
   "cell_type": "code",
   "execution_count": 2,
   "metadata": {},
   "outputs": [],
   "source": [
    "warnings.filterwarnings(\"ignore\")"
   ]
  },
  {
   "cell_type": "code",
   "execution_count": 3,
   "metadata": {},
   "outputs": [
    {
     "data": {
      "application/vnd.jupyter.widget-view+json": {
       "model_id": "61fded87b8e74a42b0e780d8b7fa2993",
       "version_major": 2,
       "version_minor": 0
      },
      "text/plain": [
       "Loading checkpoint shards:   0%|          | 0/5 [00:00<?, ?it/s]"
      ]
     },
     "metadata": {},
     "output_type": "display_data"
    }
   ],
   "source": [
    "tokenizer = AutoTokenizer.from_pretrained(\"Upstage/SOLAR-10.7B-Instruct-v1.0\")\n",
    "model = AutoModelForCausalLM.from_pretrained(\n",
    "    \"Upstage/SOLAR-10.7B-Instruct-v1.0\",\n",
    "    device_map=\"auto\",\n",
    "    torch_dtype=torch.float16,\n",
    ")"
   ]
  },
  {
   "cell_type": "markdown",
   "metadata": {},
   "source": [
    "## Zero-Shot + Instruction Prompting\n",
    "\n",
    "- Simply feed the task text to the model and ask for results.\n"
   ]
  },
  {
   "cell_type": "code",
   "execution_count": 4,
   "metadata": {},
   "outputs": [
    {
     "name": "stdout",
     "output_type": "stream",
     "text": [
      "<s> ### User:\n",
      "Choose 3 from the following descriptions that match the name 'Snowflake': Playful, Gentle, Majestic, Curious, Loyal, Witty, Mysterious, Adventurous, Elegant, Charming\n",
      "\n",
      "### Assistant:\n",
      "1. Playful\n",
      "2. Gentle\n",
      "3. Majestic</s>\n"
     ]
    }
   ],
   "source": [
    "zero_shot = [\n",
    "    {\n",
    "        \"role\": \"user\",\n",
    "        \"content\": \"Choose 3 from the following descriptions that match the name 'Snowflake': Playful, Gentle, Majestic, Curious, Loyal, Witty, Mysterious, Adventurous, Elegant, Charming\",\n",
    "    }\n",
    "]\n",
    "\n",
    "prompt = tokenizer.apply_chat_template(\n",
    "    zero_shot, tokenize=False, add_generation_prompt=True\n",
    ")\n",
    "\n",
    "inputs = tokenizer(prompt, return_tensors=\"pt\").to(model.device)\n",
    "outputs = model.generate(**inputs, use_cache=True, max_length=4096)\n",
    "output_text = tokenizer.decode(outputs[0])\n",
    "print(output_text)"
   ]
  },
  {
   "cell_type": "markdown",
   "metadata": {},
   "source": [
    "## Few-Shot + Instruction Prompting\n",
    "\n",
    "- Feed a set of high-quality demonstrations, each consisting of both input and desired output, on the target task.\n",
    "- Likely to feed similar names : use k-NN in the embedding space ([Liu et al., 2021](https://arxiv.org/abs/2101.06804))\n",
    "- Constructing good example set might be another task.\n"
   ]
  },
  {
   "cell_type": "code",
   "execution_count": 5,
   "metadata": {},
   "outputs": [
    {
     "name": "stdout",
     "output_type": "stream",
     "text": [
      "<s> ### User:\n",
      "Based on the examples below, choose 3 from the following descriptions that match the given name: Playful, Gentle, Majestic, Curious, Loyal, Witty, Mysterious, Adventurous, Elegant, Charming. Do not provide any other information.\n",
      "        Name: Snow White\n",
      "        Answer: Playful, Gentle, Majestic\n",
      "        Name: Snowy\n",
      "        Answer: Curious, Loyal, Witty\n",
      "        Name: Snowflake\n",
      "        Answer: \n",
      "\n",
      "### Assistant:\n",
      "Name: Snowflake\n",
      "Answer: Mysterious, Adventurous, Elegant</s>\n"
     ]
    }
   ],
   "source": [
    "few_shot = [\n",
    "    {\n",
    "        \"role\": \"user\",\n",
    "        \"content\": \"\"\"Based on the examples below, choose 3 from the following descriptions that match the given name: Playful, Gentle, Majestic, Curious, Loyal, Witty, Mysterious, Adventurous, Elegant, Charming. Do not provide any other information.\n",
    "        Name: Snow White\n",
    "        Answer: Playful, Gentle, Majestic\n",
    "        Name: Snowy\n",
    "        Answer: Curious, Loyal, Witty\n",
    "        Name: Snowflake\n",
    "        Answer: \"\"\",\n",
    "    }\n",
    "]\n",
    "\n",
    "prompt = tokenizer.apply_chat_template(\n",
    "    few_shot, tokenize=False, add_generation_prompt=True\n",
    ")\n",
    "\n",
    "inputs = tokenizer(prompt, return_tensors=\"pt\").to(model.device)\n",
    "outputs = model.generate(**inputs, use_cache=True, max_length=4096)\n",
    "output_text = tokenizer.decode(outputs[0])\n",
    "print(output_text)"
   ]
  },
  {
   "cell_type": "markdown",
   "metadata": {},
   "source": [
    "## Few-Shot + Instruction Prompting (alternative)\n",
    "\n",
    "**_Using different tasks as example sets._**\n",
    "\n",
    "- Repeating the same task as an example is not necessary.\n"
   ]
  },
  {
   "cell_type": "code",
   "execution_count": 6,
   "metadata": {},
   "outputs": [
    {
     "name": "stdout",
     "output_type": "stream",
     "text": [
      "<s> ### User:\n",
      "Based on the examples below, choose 3 from the following descriptions that match the given name: Playful, Gentle, Majestic, Curious, Loyal, Witty, Mysterious, Adventurous, Elegant, Charming. Do not provide any other information.\n",
      "        Name: Snow\n",
      "        Answer: White, Bright, Romantic\n",
      "        Name: Winter\n",
      "        Answer: Frosty, Cold, Serene\n",
      "        Name: Christmas\n",
      "        Answer: Romantic, Cold, Serene\n",
      "        Name: Snowflake\n",
      "        Answer: \n",
      "\n",
      "### Assistant:\n",
      "1. Majestic\n",
      "2. Mysterious\n",
      "3. Elegant</s>\n"
     ]
    }
   ],
   "source": [
    "few_shot_alt = [\n",
    "    {\n",
    "        \"role\": \"user\",\n",
    "        \"content\": \"\"\"Based on the examples below, choose 3 from the following descriptions that match the given name: Playful, Gentle, Majestic, Curious, Loyal, Witty, Mysterious, Adventurous, Elegant, Charming. Do not provide any other information.\n",
    "        Name: Snow\n",
    "        Answer: White, Bright, Romantic\n",
    "        Name: Winter\n",
    "        Answer: Frosty, Cold, Serene\n",
    "        Name: Christmas\n",
    "        Answer: Romantic, Cold, Serene\n",
    "        Name: Snowflake\n",
    "        Answer: \"\"\",\n",
    "    }\n",
    "]\n",
    "\n",
    "prompt = tokenizer.apply_chat_template(\n",
    "    few_shot_alt, tokenize=False, add_generation_prompt=True\n",
    ")\n",
    "\n",
    "inputs = tokenizer(prompt, return_tensors=\"pt\").to(model.device)\n",
    "outputs = model.generate(**inputs, use_cache=True, max_length=4096)\n",
    "output_text = tokenizer.decode(outputs[0])\n",
    "print(output_text)"
   ]
  },
  {
   "cell_type": "markdown",
   "metadata": {},
   "source": [
    "## Self-Consistency Sampling : [Wang et al., 2022a](https://arxiv.org/pdf/2203.11171.pdf)\n",
    "\n",
    "- Sample diverse answers through different reasoning paths, then apply majority vote.\n",
    "- $temperature > 0$\n"
   ]
  },
  {
   "cell_type": "code",
   "execution_count": 7,
   "metadata": {},
   "outputs": [
    {
     "name": "stdout",
     "output_type": "stream",
     "text": [
      "<s> ### User:\n",
      "Choose 3 from the following descriptions that match the name 'Snowflake': Playful, Gentle, Majestic, Curious, Loyal, Witty, Mysterious, Adventurous, Elegant, Charming. Now, using self-consistency sampling, describe a fictional or idealized version of Snowflake, incorporating those chosen characteristics into a cohesive and vivid portrayal. Do not provide any other information.\n",
      "\n",
      "### Assistant:\n",
      "Snowflake is a captivating being, embodying the enchanting qualities of elegance, curiosity, and wit. As gentle as a soft winter breeze, Snowflake moves with grace and poise, exuding an air of majesty. This enigmatic creature possesses an insatiable thirst for knowledge, exploring the world around them with a sense of adventure. Their charm is undeniable, drawing others to their charismatic presence. Despite their playful nature, Snowflake remains loyal to their friends and values, making them a trustworthy and delightful companion. Their unique blend of characteristics creates a mesmerizing persona that leaves a lasting impression on all who encounter them.</s>\n"
     ]
    }
   ],
   "source": [
    "sc_sampling = [\n",
    "    {\n",
    "        \"role\": \"user\",\n",
    "        \"content\": \"Choose 3 from the following descriptions that match the name 'Snowflake': Playful, Gentle, Majestic, Curious, Loyal, Witty, Mysterious, Adventurous, Elegant, Charming. Now, using self-consistency sampling, describe a fictional or idealized version of Snowflake, incorporating those chosen characteristics into a cohesive and vivid portrayal. Do not provide any other information.\",\n",
    "    }\n",
    "]\n",
    "\n",
    "prompt = tokenizer.apply_chat_template(\n",
    "    sc_sampling, tokenize=False, add_generation_prompt=True\n",
    ")\n",
    "\n",
    "inputs = tokenizer(prompt, return_tensors=\"pt\").to(model.device)\n",
    "outputs = model.generate(**inputs, use_cache=True, max_length=4096)\n",
    "output_text = tokenizer.decode(outputs[0])\n",
    "print(output_text)"
   ]
  },
  {
   "cell_type": "code",
   "execution_count": 8,
   "metadata": {},
   "outputs": [
    {
     "name": "stdout",
     "output_type": "stream",
     "text": [
      "<s> ### User:\n",
      "By the method below, choose 3 from the following descriptions that match the name 'Snowflake': Playful, Gentle, Majestic, Curious, Loyal, Witty, Mysterious, Adventurous, Elegant, Charming.\n",
      "        First, pick the very best description that match name about 20 times, use different reasoning pathway each.\n",
      "        Then show me the top three most frequently chosen descriptions. Do not provide any other information.\n",
      "\n",
      "### Assistant:\n",
      "To find the top three most frequently chosen descriptions that match the name 'Snowflake', I will analyze the given options using different reasoning pathways.\n",
      "\n",
      "Reasoning Pathway 1: Winter and Nature Associations\n",
      "- Snowflakes are delicate and elegant creations of winter.\n",
      "- They are often associated with gentleness and beauty.\n",
      "- Choices: Gentle, Elegant\n",
      "\n",
      "Reasoning Pathway 2: Uniqueness and Individuality\n",
      "- Snowflakes are unique and no two are alike.\n",
      "- This can be associated with curiosity and playfulness.\n",
      "- Choices: Playful, Curious\n",
      "\n",
      "Reasoning Pathway 3: Visual Appearance and Aesthetics\n",
      "- Snowflakes are intricate and complex in their design.\n",
      "- This can be associated with majesty and charm.\n",
      "- Choices: Majestic, Charming\n",
      "\n",
      "Reasoning Pathway 4: Symbolism and Metaphors\n",
      "- Snowflakes are often used as metaphors for purity, peace, and innocence.\n",
      "- These qualities can be linked to gentleness and elegance.\n",
      "- Choices: Gentle, Elegant\n",
      "\n",
      "Reasoning Pathway 5: Abstract Attributes\n",
      "- Snowflakes are peaceful and serene.\n",
      "- This can be associated with a sense of mystery and wit.\n",
      "- Choices: Mysterious, Witty\n",
      "\n",
      "Reasoning Pathway 6: Emotional and Characteristic Connections\n",
      "- Snowflakes are not known for loyalty, but their beauty and uniqueness can evoke a sense of adventure.\n",
      "- Choices: Adventurous\n",
      "\n",
      "After analyzing the given options using different reasoning pathways, the top three most frequently chosen descriptions that match the name 'Snowflake' are: Gentle, Elegant, and Playful.</s>\n"
     ]
    }
   ],
   "source": [
    "sc_sampling_alt = [\n",
    "    {\n",
    "        \"role\": \"user\",\n",
    "        \"content\": \"\"\"By the method below, choose 3 from the following descriptions that match the name 'Snowflake': Playful, Gentle, Majestic, Curious, Loyal, Witty, Mysterious, Adventurous, Elegant, Charming.\n",
    "        First, pick the very best description that match name about 20 times, use different reasoning pathway each.\n",
    "        Then show me the top three most frequently chosen descriptions. Do not provide any other information.\"\"\",\n",
    "    }\n",
    "]\n",
    "\n",
    "prompt = tokenizer.apply_chat_template(\n",
    "    sc_sampling_alt, tokenize=False, add_generation_prompt=True\n",
    ")\n",
    "\n",
    "inputs = tokenizer(prompt, return_tensors=\"pt\").to(model.device)\n",
    "outputs = model.generate(**inputs, use_cache=True, max_length=4096)\n",
    "output_text = tokenizer.decode(outputs[0])\n",
    "print(output_text)"
   ]
  },
  {
   "cell_type": "markdown",
   "metadata": {},
   "source": [
    "## Chain-of-Thought (CoT) : [Wei et al., 2022](https://arxiv.org/pdf/2201.11903.pdf)\n"
   ]
  },
  {
   "cell_type": "code",
   "execution_count": 9,
   "metadata": {},
   "outputs": [
    {
     "name": "stdout",
     "output_type": "stream",
     "text": [
      "<s> ### User:\n",
      "Based on the examples below, choose 3 from the following descriptions that match the given name: Playful, Gentle, Majestic, Curious, Loyal, Witty, Mysterious, Adventurous, Elegant, Charming. Do not provide any other information.\n",
      "        Name: Snowflake\n",
      "        Answer: Let's think step by step.\n",
      "\n",
      "### Assistant:\n",
      "1. Playful\n",
      "2. Gentle\n",
      "3. Mysterious (due to the association with snow and its enigmatic nature)</s>\n"
     ]
    }
   ],
   "source": [
    "cot_zero = [\n",
    "    {\n",
    "        \"role\": \"user\",\n",
    "        \"content\": \"\"\"Based on the examples below, choose 3 from the following descriptions that match the given name: Playful, Gentle, Majestic, Curious, Loyal, Witty, Mysterious, Adventurous, Elegant, Charming. Do not provide any other information.\n",
    "        Name: Snowflake\n",
    "        Answer: Let's think step by step.\"\"\",\n",
    "    }\n",
    "]\n",
    "\n",
    "prompt = tokenizer.apply_chat_template(\n",
    "    cot_zero, tokenize=False, add_generation_prompt=True\n",
    ")\n",
    "\n",
    "inputs = tokenizer(prompt, return_tensors=\"pt\").to(model.device)\n",
    "outputs = model.generate(**inputs, use_cache=True, max_length=4096)\n",
    "output_text = tokenizer.decode(outputs[0])\n",
    "print(output_text)"
   ]
  },
  {
   "cell_type": "markdown",
   "metadata": {},
   "source": [
    "**Citation :**\n",
    "[Lilian Weng, 2023](https://lilianweng.github.io/posts/2023-03-15-prompt-engineering/)\n"
   ]
  }
 ],
 "metadata": {
  "kernelspec": {
   "display_name": "torch",
   "language": "python",
   "name": "python3"
  },
  "language_info": {
   "codemirror_mode": {
    "name": "ipython",
    "version": 3
   },
   "file_extension": ".py",
   "mimetype": "text/x-python",
   "name": "python",
   "nbconvert_exporter": "python",
   "pygments_lexer": "ipython3",
   "version": "3.10.12"
  }
 },
 "nbformat": 4,
 "nbformat_minor": 2
}

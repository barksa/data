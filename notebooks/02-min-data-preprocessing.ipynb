{
 "cells": [
  {
   "cell_type": "markdown",
   "metadata": {},
   "source": [
    "# Preprocessing : Refining Names"
   ]
  },
  {
   "cell_type": "code",
   "execution_count": 88,
   "metadata": {},
   "outputs": [
    {
     "name": "stdout",
     "output_type": "stream",
     "text": [
      "47396\n"
     ]
    }
   ],
   "source": [
    "import pandas as pd\n",
    "data_path = \"/Users/minseoksong/Desktop/Projects/pet-name/scraped_data/dog_data.csv\"\n",
    "data = pd.read_csv(data_path)\n",
    "print(len(data))"
   ]
  },
  {
   "cell_type": "code",
   "execution_count": 89,
   "metadata": {},
   "outputs": [
    {
     "name": "stdout",
     "output_type": "stream",
     "text": [
      "38597\n"
     ]
    }
   ],
   "source": [
    "\n",
    "# Filter rows where 'Name' does not consist of only digits and has no spaces\n",
    "# Filter rows where the length of 'Name' is greater than or equal to the threshold\n",
    "\n",
    "min_name_length = 3\n",
    "data = data[(~data['Name'].str.contains(r'^\\d+$')) & (data['Name'].str.count(' ')==0) & (data['Name'].str.len() >= min_name_length)]\n",
    "\n",
    "# Remove outliers.\n",
    "data = data[data['Name'] != '**DONATIONS**']\n",
    "\n",
    "# Remove characters like (), *, #, and digits from the 'Name' column\n",
    "data_copy = data.copy()\n",
    "data_copy['Name'] = data_copy['Name'].str.replace(r'[\\(\\)\\*\\#\\d]', '', regex=True)\n",
    "\n",
    "print(len(data_copy))"
   ]
  },
  {
   "cell_type": "code",
   "execution_count": 91,
   "metadata": {},
   "outputs": [],
   "source": [
    "# Save the resulting DataFrame\n",
    "writing_path = \"/Users/minseoksong/Desktop/Projects/pet-name/scraped_data/preprocessed_names.csv\"\n",
    "data_copy.to_csv(writing_path, index=False, header=True)"
   ]
  }
 ],
 "metadata": {
  "kernelspec": {
   "display_name": "barksa",
   "language": "python",
   "name": "python3"
  },
  "language_info": {
   "codemirror_mode": {
    "name": "ipython",
    "version": 3
   },
   "file_extension": ".py",
   "mimetype": "text/x-python",
   "name": "python",
   "nbconvert_exporter": "python",
   "pygments_lexer": "ipython3",
   "version": "3.10.13"
  }
 },
 "nbformat": 4,
 "nbformat_minor": 2
}
